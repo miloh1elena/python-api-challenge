{
 "cells": [
  {
   "cell_type": "markdown",
   "metadata": {},
   "source": [
    "# WeatherPy\n",
    "\n",
    "---\n",
    "\n",
    "## Starter Code to Generate Random Geographic Coordinates and a List of Cities"
   ]
  },
  {
   "cell_type": "code",
   "execution_count": 1,
   "metadata": {
    "scrolled": true
   },
   "outputs": [],
   "source": [
    "# Dependencies and Setup\n",
    "import matplotlib.pyplot as plt\n",
    "import pandas as pd\n",
    "import numpy as np\n",
    "import requests\n",
    "import time\n",
    "from scipy.stats import linregress\n",
    "from citipy import citipy\n",
    "\n",
    "# Impor the OpenWeatherMap API key\n",
    "from api_keys import weather_api_key"
   ]
  },
  {
   "cell_type": "markdown",
   "metadata": {},
   "source": [
    "### Generate the Cities List by Using the `citipy` Library"
   ]
  },
  {
   "cell_type": "code",
   "execution_count": 2,
   "metadata": {},
   "outputs": [
    {
     "name": "stdout",
     "output_type": "stream",
     "text": [
      "Number of cities in the list: 621\n"
     ]
    }
   ],
   "source": [
    "# Empty list for holding the latitude and longitude combinations\n",
    "lat_lngs = []\n",
    "\n",
    "# Empty list for holding the cities names\n",
    "cities = []\n",
    "\n",
    "# Range of latitudes and longitudes\n",
    "lat_range = (-90, 90)\n",
    "lng_range = (-180, 180)\n",
    "\n",
    "# Create a set of random lat and lng combinations\n",
    "lats = np.random.uniform(lat_range[0], lat_range[1], size=1500)\n",
    "lngs = np.random.uniform(lng_range[0], lng_range[1], size=1500)\n",
    "lat_lngs = zip(lats, lngs)\n",
    "\n",
    "# Identify nearest city for each lat, lng combination\n",
    "for lat_lng in lat_lngs:\n",
    "    city = citipy.nearest_city(lat_lng[0], lat_lng[1]).city_name\n",
    "    \n",
    "    # If the city is unique, then add it to a our cities list\n",
    "    if city not in cities:\n",
    "        cities.append(city)\n",
    "\n",
    "# Print the city count to confirm sufficient count\n",
    "print(f\"Number of cities in the list: {len(cities)}\")"
   ]
  },
  {
   "cell_type": "markdown",
   "metadata": {},
   "source": [
    "---"
   ]
  },
  {
   "cell_type": "markdown",
   "metadata": {},
   "source": [
    "## Requirement 1: Create Plots to Showcase the Relationship Between Weather Variables and Latitude\n",
    "\n",
    "### Use the OpenWeatherMap API to retrieve weather data from the cities list generated in the started code"
   ]
  },
  {
   "cell_type": "code",
   "execution_count": null,
   "metadata": {},
   "outputs": [
    {
     "name": "stdout",
     "output_type": "stream",
     "text": [
      "Beginning Data Retrieval     \n",
      "-----------------------------\n",
      "Processing Record 1 of Set 1 | port-aux-francais\n",
      "Processing Record 2 of Set 1 | adamstown\n",
      "Processing Record 3 of Set 1 | san jose village\n",
      "City not found. Skipping... 'coord'\n",
      "Processing Record 4 of Set 1 | ad dabbah\n",
      "Processing Record 5 of Set 1 | invercargill\n",
      "Processing Record 6 of Set 1 | bethel\n",
      "Processing Record 7 of Set 1 | hammerfest\n",
      "Processing Record 8 of Set 1 | qamdo\n",
      "Processing Record 9 of Set 1 | viedma\n",
      "Processing Record 10 of Set 1 | taiohae\n",
      "City not found. Skipping... 'coord'\n",
      "Processing Record 11 of Set 1 | blackmans bay\n",
      "Processing Record 12 of Set 1 | thompson\n",
      "Processing Record 13 of Set 1 | enewetak\n",
      "Processing Record 14 of Set 1 | papatowai\n",
      "Processing Record 15 of Set 1 | la pobla de farnals\n",
      "Processing Record 16 of Set 1 | bilibino\n",
      "Processing Record 17 of Set 1 | punta arenas\n",
      "Processing Record 18 of Set 1 | klyuchi\n",
      "Processing Record 19 of Set 1 | n'zeto\n",
      "Processing Record 20 of Set 1 | grytviken\n",
      "Processing Record 21 of Set 1 | yellowknife\n"
     ]
    }
   ],
   "source": [
    "# Set the API base URL\n",
    "url = \"http://api.openweathermap.org/data/2.5/weather?\"\n",
    "\n",
    "# Define an empty list to fetch the weather data for each city\n",
    "city_data = []\n",
    "\n",
    "# Print to logger\n",
    "print(\"Beginning Data Retrieval     \")\n",
    "print(\"-----------------------------\")\n",
    "\n",
    "# Create counters\n",
    "record_count = 1\n",
    "set_count = 1\n",
    "\n",
    "# Loop through all the cities in our list to fetch weather data\n",
    "for i, city in enumerate(cities):\n",
    "    \n",
    "    # Group cities in sets of 50 for logging purposes\n",
    "    if (i % 50 == 0 and i >= 50):\n",
    "        set_count += 1\n",
    "        record_count = 0\n",
    "\n",
    "    # Create endpoint URL with each city\n",
    "    city_url = f\"{url}q={city}&appid={weather_api_key}&units=imperial\"\n",
    "\n",
    "    # Log the url, record, and set numbers\n",
    "    print(\"Processing Record %s of Set %s | %s\" % (record_count, set_count, city))\n",
    "\n",
    "    # Add 1 to the record count\n",
    "    record_count += 1\n",
    "\n",
    "    # Run an API request for each of the cities\n",
    "    try:\n",
    "        # Parse the JSON and retrieve data\n",
    "        city_weather = requests.get(city_url).json()\n",
    "\n",
    "        # Parse out latitude, longitude, max temp, humidity, cloudiness, wind speed, country, and date\n",
    "        city_lat = city_weather[\"coord\"][\"lat\"]\n",
    "        city_lng = city_weather[\"coord\"][\"lon\"]\n",
    "        city_max_temp = city_weather[\"main\"][\"temp_max\"]\n",
    "        city_humidity = city_weather[\"main\"][\"humidity\"]\n",
    "        city_clouds = city_weather[\"clouds\"][\"all\"]\n",
    "        city_wind = city_weather[\"wind\"][\"speed\"]\n",
    "        city_country = city_weather[\"sys\"][\"country\"]\n",
    "        city_date = city_weather[\"dt\"]\n",
    "\n",
    "        # Append the City information into city_data list\n",
    "        city_data.append({\"City\": city, \n",
    "                          \"Lat\": city_lat, \n",
    "                          \"Lng\": city_lng, \n",
    "                          \"Max Temp\": city_max_temp,\n",
    "                          \"Humidity\": city_humidity,\n",
    "                          \"Cloudiness\": city_clouds,\n",
    "                          \"Wind Speed\": city_wind,\n",
    "                          \"Country\": city_country,\n",
    "                          \"Date\": city_date})\n",
    "\n",
    "        # Wait for a moment to avoid overloading the API\n",
    "        time.sleep(1)\n",
    "\n",
    "    # If an error is experienced, skip the city\n",
    "    except Exception as e:\n",
    "        print(f\"City not found. Skipping... {e}\")\n",
    "        pass\n",
    "\n",
    "# Indicate that Data Loading is complete\n",
    "print(\"-----------------------------\")\n",
    "print(\"Data Retrieval Complete      \")\n",
    "print(\"-----------------------------\")"
   ]
  },
  {
   "cell_type": "code",
   "execution_count": null,
   "metadata": {},
   "outputs": [],
   "source": [
    "# Convert the cities' weather data into a Pandas DataFrame\n",
    "city_data_df = pd.DataFrame(city_data)\n",
    "\n",
    "# Show Record Count\n",
    "city_data_df.count()"
   ]
  },
  {
   "cell_type": "code",
   "execution_count": null,
   "metadata": {},
   "outputs": [],
   "source": [
    "# Display sample data\n",
    "city_data_df.head()"
   ]
  },
  {
   "cell_type": "code",
   "execution_count": null,
   "metadata": {},
   "outputs": [],
   "source": [
    "# Export the City_Data into a csv\n",
    "city_data_df.to_csv(\"output_data/cities.csv\", index_label=\"City_ID\")"
   ]
  },
  {
   "cell_type": "code",
   "execution_count": null,
   "metadata": {},
   "outputs": [],
   "source": [
    "# Read saved data\n",
    "city_data_df = pd.read_csv(\"output_data/cities.csv\", index_col=\"City_ID\")\n",
    "\n",
    "# Display sample data\n",
    "city_data_df.head()"
   ]
  },
  {
   "cell_type": "markdown",
   "metadata": {},
   "source": [
    "### Create the Scatter Plots Requested\n",
    "\n",
    "#### Latitude Vs. Temperature"
   ]
  },
  {
   "cell_type": "code",
   "execution_count": null,
   "metadata": {
    "tags": []
   },
   "outputs": [],
   "source": [
    "# Build scatter plot for latitude vs. temperature\n",
    "plt.scatter(city_data_df[\"Lat\"], city_data_df[\"Max Temp\"], marker=\"o\", edgecolors=\"black\")\n",
    "\n",
    "# Set plot properties\n",
    "plt.title(\"City Latitude vs. Max Temperature (Date)\")\n",
    "plt.xlabel(\"Latitude\")\n",
    "plt.ylabel(\"Max Temperature (°F)\")\n",
    "plt.grid(True)\n",
    "\n",
    "# Save the figure\n",
    "plt.savefig(\"output_data/Fig1.png\")\n",
    "\n",
    "# Show the plot\n",
    "plt.show()"
   ]
  },
  {
   "cell_type": "markdown",
   "metadata": {},
   "source": [
    "#### Latitude Vs. Humidity"
   ]
  },
  {
   "cell_type": "code",
   "execution_count": null,
   "metadata": {},
   "outputs": [],
   "source": [
    "# Build the scatter plot for latitude vs. humidity\n",
    "plt.scatter(city_data_df[\"Lat\"], city_data_df[\"Humidity\"], marker=\"o\", edgecolors=\"black\")\n",
    "\n",
    "# Set plot properties\n",
    "plt.title(\"City Latitude vs. Humidity (Date)\")\n",
    "plt.xlabel(\"Latitude\")\n",
    "plt.ylabel(\"Humidity (%)\")\n",
    "plt.grid(True)\n",
    "\n",
    "# Save the figure\n",
    "plt.savefig(\"output_data/Fig2.png\")\n",
    "\n",
    "# Show the plot\n",
    "plt.show()"
   ]
  },
  {
   "cell_type": "markdown",
   "metadata": {},
   "source": [
    "#### Latitude Vs. Cloudiness"
   ]
  },
  {
   "cell_type": "code",
   "execution_count": null,
   "metadata": {},
   "outputs": [],
   "source": [
    "# Build the scatter plot for latitude vs. cloudiness\n",
    "plt.scatter(city_data_df[\"Lat\"], city_data_df[\"Cloudiness\"], marker=\"o\", edgecolors=\"black\")\n",
    "\n",
    "# Set plot properties\n",
    "plt.title(\"City Latitude vs. Cloudiness (Date)\")\n",
    "plt.xlabel(\"Latitude\")\n",
    "plt.ylabel(\"Cloudiness (%)\")\n",
    "plt.grid(True)\n",
    "\n",
    "# Save the figure\n",
    "plt.savefig(\"output_data/Fig3.png\")\n",
    "\n",
    "# Show the plot\n",
    "plt.show()"
   ]
  },
  {
   "cell_type": "markdown",
   "metadata": {},
   "source": [
    "#### Latitude vs. Wind Speed Plot"
   ]
  },
  {
   "cell_type": "code",
   "execution_count": null,
   "metadata": {},
   "outputs": [],
   "source": [
    "# Build the scatter plot for latitude vs. wind speed\n",
    "plt.scatter(city_data_df[\"Lat\"], city_data_df[\"Wind Speed\"], marker=\"o\", edgecolors=\"black\")\n",
    "\n",
    "# Set plot properties\n",
    "plt.title(\"City Latitude vs. Wind Speed (Date)\")\n",
    "plt.xlabel(\"Latitude\")\n",
    "plt.ylabel(\"Wind Speed (mph)\")\n",
    "plt.grid(True)\n",
    "\n",
    "# Save the figure\n",
    "plt.savefig(\"output_data/Fig4.png\")\n",
    "\n",
    "# Show the plot\n",
    "plt.show()"
   ]
  },
  {
   "cell_type": "markdown",
   "metadata": {},
   "source": [
    "---\n",
    "\n",
    "## Requirement 2: Compute Linear Regression for Each Relationship\n"
   ]
  },
  {
   "cell_type": "code",
   "execution_count": null,
   "metadata": {},
   "outputs": [],
   "source": [
    "# Define a function to create Linear Regression plots\n",
    "def plot_linear_regression(x_values, y_values, title, xlabel, ylabel, hemisphere):\n",
    "    \n",
    "    # Perform linear regression\n",
    "    (slope, intercept, rvalue, pvalue, stderr) = linregress(x_values, y_values)\n",
    "    \n",
    "    # Calculate the regression values\n",
    "    regress_values = x_values * slope + intercept\n",
    "\n",
    "    # Create equation of the line\n",
    "    line_eq = f\"y = {round(slope, 2)}x + {round(intercept, 2)}\"\n",
    "\n",
    "    # Create the scatter plot\n",
    "    plt.scatter(x_values, y_values)\n",
    "\n",
    "    # Plot the regression line\n",
    "    plt.plot(x_values, regress_values, \"r-\")\n",
    "\n",
    "    # Calculate suitable positions for annotation\n",
    "    if hemisphere == \"Northern\" or hemisphere == \"Southern\":\n",
    "        x_ann = x_values.min() + (x_values.max() - x_values.min()) * 0.05\n",
    "        y_ann = y_values.min() + (y_values.max() - y_values.min()) * 0.09\n",
    "    else:\n",
    "        x_ann = x_values.max() - (x_values.max() - x_values.min()) * 0.05 + 2 \n",
    "        y_ann = y_values.min() + (y_values.max() - y_values.min()) * 0.09\n",
    "\n",
    "    # Annotate the plot with the equation and R-squared value\n",
    "    if hemisphere == \"Northern\":\n",
    "        plt.annotate(f\"{line_eq}\\nR^2 = {rvalue**2:.10f}\", (x_ann, y_ann), fontsize=12, color=\"red\")\n",
    "    else:\n",
    "        plt.annotate(f\"{line_eq}\\nR^2 = {rvalue**2:.10f}\", (x_ann, y_ann), fontsize=12, color=\"red\", ha=\"right\")\n",
    "\n",
    "    # Set title and labels\n",
    "    plt.title(title)\n",
    "    plt.xlabel(xlabel)\n",
    "    plt.ylabel(ylabel)"
   ]
  },
  {
   "cell_type": "code",
   "execution_count": null,
   "metadata": {},
   "outputs": [],
   "source": [
    "# Create a DataFrame with the Northern Hemisphere data (Latitude >= 0)\n",
    "northern_hemi_df = city_data_df[city_data_df[\"Lat\"] >= 0]\n",
    "\n",
    "# Display sample data\n",
    "northern_hemi_df.head()"
   ]
  },
  {
   "cell_type": "code",
   "execution_count": null,
   "metadata": {},
   "outputs": [],
   "source": [
    "# Create a DataFrame with the Southern Hemisphere data (Latitude < 0)\n",
    "southern_hemi_df = city_data_df[city_data_df[\"Lat\"] < 0]\n",
    "\n",
    "# Display sample data\n",
    "southern_hemi_df.head()"
   ]
  },
  {
   "cell_type": "markdown",
   "metadata": {},
   "source": [
    "###  Temperature vs. Latitude Linear Regression Plot"
   ]
  },
  {
   "cell_type": "code",
   "execution_count": null,
   "metadata": {},
   "outputs": [],
   "source": [
    "# Linear regression on Northern Hemisphere\n",
    "plot_linear_regression(\n",
    "    city_data_df[city_data_df[\"Lat\"] >= 0][\"Lat\"],\n",
    "    city_data_df[city_data_df[\"Lat\"] >= 0][\"Max Temp\"],\n",
    "    \"Northern Hemisphere: Temperature vs. Latitude\",\n",
    "    \"Latitude\",\n",
    "    \"Max Temperature (°F)\",\n",
    "    \"Northern Hemisphere\"\n",
    ")\n",
    "\n",
    "plt.show() "
   ]
  },
  {
   "cell_type": "code",
   "execution_count": null,
   "metadata": {},
   "outputs": [],
   "source": [
    "# Linear regression on Southern Hemisphere\n",
    "plot_linear_regression(\n",
    "    city_data_df[city_data_df[\"Lat\"] < 0][\"Lat\"],\n",
    "    city_data_df[city_data_df[\"Lat\"] < 0][\"Max Temp\"],\n",
    "    \"Southern Hemisphere: Temperature vs. Latitude\",\n",
    "    \"Latitude\",\n",
    "    \"Max Temperature (°F)\",\n",
    "    \"Southern Hemisphere\"\n",
    ")\n",
    "\n",
    "plt.show()"
   ]
  },
  {
   "cell_type": "markdown",
   "metadata": {},
   "source": [
    "**Discussion about the linear relationship:** The analysis shows a moderate negative relationship (R-squared = 0.76) between temperature and latitude in the Northern Hemisphere. As you move north from the equator, temperatures tend to decrease, as represented by the equation y = -1.07x + 93.92. In the Southern Hemisphere, there is a weaker positive relationship (R-squared = 0.52), indicating that temperatures tend to increase as you move south from the equator (y = 0.61x + 82.54). These models explain a significant portion of temperature variance with latitude, but other factors influence temperature variations."
   ]
  },
  {
   "cell_type": "markdown",
   "metadata": {},
   "source": [
    "### Humidity vs. Latitude Linear Regression Plot"
   ]
  },
  {
   "cell_type": "code",
   "execution_count": null,
   "metadata": {},
   "outputs": [],
   "source": [
    "# Northern Hemisphere\n",
    "plot_linear_regression(\n",
    "    city_data_df[city_data_df[\"Lat\"] >= 0][\"Lat\"],\n",
    "    city_data_df[city_data_df[\"Lat\"] >= 0][\"Humidity\"],\n",
    "    \"Northern Hemisphere: Humidity vs. Latitude\",\n",
    "    \"Latitude\",\n",
    "    \"Humidity (%)\",\n",
    "    \"Northern Hemisphere\"\n",
    ")\n",
    "\n",
    "plt.show()"
   ]
  },
  {
   "cell_type": "code",
   "execution_count": null,
   "metadata": {},
   "outputs": [],
   "source": [
    "# Southern Hemisphere\n",
    "plot_linear_regression(\n",
    "    city_data_df[city_data_df[\"Lat\"] < 0][\"Lat\"],\n",
    "    city_data_df[city_data_df[\"Lat\"] < 0][\"Humidity\"],\n",
    "    \"Southern Hemisphere: Humidity vs. Latitude\",\n",
    "    \"Latitude\",\n",
    "    \"Humidity (%)\",\n",
    "    \"Southern Hemisphere\"\n",
    ")\n",
    "\n",
    "plt.show()"
   ]
  },
  {
   "cell_type": "markdown",
   "metadata": {},
   "source": [
    "**Discussion about the linear relationship:** In both the Northern and Southern Hemispheres, the linear regression shows very weak positive relationships between humidity and latitude, with R-squared values close to 0. This indicates latitude has limited explanatory power in predicting humidity."
   ]
  },
  {
   "cell_type": "markdown",
   "metadata": {},
   "source": [
    "### Cloudiness vs. Latitude Linear Regression Plot"
   ]
  },
  {
   "cell_type": "code",
   "execution_count": null,
   "metadata": {},
   "outputs": [],
   "source": [
    "# Northern Hemisphere\n",
    "plot_linear_regression(\n",
    "    city_data_df[city_data_df[\"Lat\"] >= 0][\"Lat\"],\n",
    "    city_data_df[city_data_df[\"Lat\"] >= 0][\"Cloudiness\"],\n",
    "    \"Northern Hemisphere: Cloudiness vs. Latitude\",\n",
    "    \"Latitude\",\n",
    "    \"Cloudiness (%)\",\n",
    "    \"Northern Hemisphere\"\n",
    ")\n",
    "\n",
    "plt.show()"
   ]
  },
  {
   "cell_type": "code",
   "execution_count": null,
   "metadata": {
    "scrolled": true
   },
   "outputs": [],
   "source": [
    "# Southern Hemisphere\n",
    "plot_linear_regression(\n",
    "    city_data_df[city_data_df[\"Lat\"] < 0][\"Lat\"],\n",
    "    city_data_df[city_data_df[\"Lat\"] < 0][\"Cloudiness\"],\n",
    "    \"Southern Hemisphere: Cloudiness vs. Latitude\",\n",
    "    \"Latitude\",\n",
    "    \"Cloudiness (%)\",\n",
    "    \"Southern Hemisphere\"\n",
    ")\n",
    "plt.show()"
   ]
  },
  {
   "cell_type": "markdown",
   "metadata": {},
   "source": [
    "**Discussion about the linear relationship:** The linear regression analysis reveals almost no relationship between cloudiness and latitude, as evidenced by the near-zero R-squared values. Latitude does not significantly explain variations in cloudiness."
   ]
  },
  {
   "cell_type": "markdown",
   "metadata": {},
   "source": [
    "### Wind Speed vs. Latitude Linear Regression Plot"
   ]
  },
  {
   "cell_type": "code",
   "execution_count": null,
   "metadata": {},
   "outputs": [],
   "source": [
    "# Northern Hemisphere\n",
    "plot_linear_regression(\n",
    "    city_data_df[city_data_df[\"Lat\"] >= 0][\"Lat\"],\n",
    "    city_data_df[city_data_df[\"Lat\"] >= 0][\"Wind Speed\"],\n",
    "    \"Northern Hemisphere: Wind Speed vs. Latitude\",\n",
    "    \"Latitude\",\n",
    "    \"Wind Speed (mph)\",\n",
    "    \"Northern Hemisphere\"\n",
    ")\n",
    "plt.show()\n"
   ]
  },
  {
   "cell_type": "code",
   "execution_count": null,
   "metadata": {
    "scrolled": true
   },
   "outputs": [],
   "source": [
    "# Southern Hemisphere\n",
    "plot_linear_regression(\n",
    "    city_data_df[city_data_df[\"Lat\"] < 0][\"Lat\"],\n",
    "    city_data_df[city_data_df[\"Lat\"] < 0][\"Wind Speed\"],\n",
    "    \"Southern Hemisphere: Wind Speed vs. Latitude\",\n",
    "    \"Latitude\",\n",
    "    \"Wind Speed (mph)\",\n",
    "    \"Southern Hemisphere\"\n",
    ")\n",
    "plt.show()"
   ]
  },
  {
   "cell_type": "markdown",
   "metadata": {},
   "source": [
    "**Discussion about the linear relationship:** The linear regression models suggest weak relationships between wind speed and latitude in both hemispheres. While the Southern Hemisphere has a slightly stronger negative relationship, latitude's effect on wind speed remains minimal. Other factors likely influence wind speed variations."
   ]
  }
 ],
 "metadata": {
  "anaconda-cloud": {},
  "kernel_info": {
   "name": "python3"
  },
  "kernelspec": {
   "display_name": "Python 3 (ipykernel)",
   "language": "python",
   "name": "python3"
  },
  "language_info": {
   "codemirror_mode": {
    "name": "ipython",
    "version": 3
   },
   "file_extension": ".py",
   "mimetype": "text/x-python",
   "name": "python",
   "nbconvert_exporter": "python",
   "pygments_lexer": "ipython3",
   "version": "3.11.4"
  },
  "latex_envs": {
   "LaTeX_envs_menu_present": true,
   "autoclose": false,
   "autocomplete": true,
   "bibliofile": "biblio.bib",
   "cite_by": "apalike",
   "current_citInitial": 1,
   "eqLabelWithNumbers": true,
   "eqNumInitial": 1,
   "hotkeys": {
    "equation": "Ctrl-E",
    "itemize": "Ctrl-I"
   },
   "labels_anchors": false,
   "latex_user_defs": false,
   "report_style_numbering": false,
   "user_envs_cfg": false
  },
  "nteract": {
   "version": "0.12.3"
  }
 },
 "nbformat": 4,
 "nbformat_minor": 4
}
